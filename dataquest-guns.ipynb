{
 "cells": [
  {
   "cell_type": "code",
   "execution_count": 2,
   "metadata": {
    "collapsed": false
   },
   "outputs": [
    {
     "name": "stdout",
     "output_type": "stream",
     "text": [
      "[['', 'year', 'month', 'intent', 'police', 'sex', 'age', 'race', 'hispanic', 'place', 'education'], ['1', '2012', '01', 'Suicide', '0', 'M', '34', 'Asian/Pacific Islander', '100', 'Home', '4'], ['2', '2012', '01', 'Suicide', '0', 'F', '21', 'White', '100', 'Street', '3'], ['3', '2012', '01', 'Suicide', '0', 'M', '60', 'White', '100', 'Other specified', '4'], ['4', '2012', '02', 'Suicide', '0', 'M', '64', 'White', '100', 'Home', '4']]\n"
     ]
    }
   ],
   "source": [
    "import csv\n",
    "\n",
    "data = list(csv.reader(open(\"guns.csv\", \"r\")))\n",
    "\n",
    "print(data[:5])"
   ]
  },
  {
   "cell_type": "code",
   "execution_count": 4,
   "metadata": {
    "collapsed": false
   },
   "outputs": [
    {
     "name": "stdout",
     "output_type": "stream",
     "text": [
      "['1', '2012', '01', 'Suicide', '0', 'M', '34', 'Asian/Pacific Islander', '100', 'Home', '4']\n",
      "[['2', '2012', '01', 'Suicide', '0', 'F', '21', 'White', '100', 'Street', '3'], ['3', '2012', '01', 'Suicide', '0', 'M', '60', 'White', '100', 'Other specified', '4'], ['4', '2012', '02', 'Suicide', '0', 'M', '64', 'White', '100', 'Home', '4'], ['5', '2012', '02', 'Suicide', '0', 'M', '31', 'White', '100', 'Other specified', '2'], ['6', '2012', '02', 'Suicide', '0', 'M', '17', 'Native American/Native Alaskan', '100', 'Home', '1']]\n"
     ]
    }
   ],
   "source": [
    "headers = data[0]\n",
    "\n",
    "data = data[1:]\n",
    "\n",
    "print(headers)\n",
    "\n",
    "print(data[:5])"
   ]
  },
  {
   "cell_type": "code",
   "execution_count": 8,
   "metadata": {
    "collapsed": false
   },
   "outputs": [
    {
     "name": "stdout",
     "output_type": "stream",
     "text": [
      "{'2014': 33599, '2013': 33636, '2012': 33562}\n"
     ]
    }
   ],
   "source": [
    "years = [row[1] for row in data]\n",
    "\n",
    "year_counts = {}\n",
    "\n",
    "for year in years:\n",
    "    if year in year_counts:\n",
    "        year_counts[year] += 1\n",
    "    else:\n",
    "        year_counts[year] = 1\n",
    "print(year_counts)"
   ]
  },
  {
   "cell_type": "code",
   "execution_count": 11,
   "metadata": {
    "collapsed": false
   },
   "outputs": [
    {
     "name": "stdout",
     "output_type": "stream",
     "text": [
      "[datetime.datetime(2012, 1, 1, 0, 0), datetime.datetime(2012, 1, 1, 0, 0), datetime.datetime(2012, 2, 1, 0, 0), datetime.datetime(2012, 2, 1, 0, 0), datetime.datetime(2012, 2, 1, 0, 0)]\n",
      "{datetime.datetime(2012, 2, 1, 0, 0): 2357, datetime.datetime(2014, 6, 1, 0, 0): 2931, datetime.datetime(2013, 8, 1, 0, 0): 2859, datetime.datetime(2012, 12, 1, 0, 0): 2791, datetime.datetime(2013, 10, 1, 0, 0): 2808, datetime.datetime(2013, 5, 1, 0, 0): 2806, datetime.datetime(2014, 11, 1, 0, 0): 2756, datetime.datetime(2013, 11, 1, 0, 0): 2758, datetime.datetime(2012, 5, 1, 0, 0): 2999, datetime.datetime(2012, 7, 1, 0, 0): 3026, datetime.datetime(2013, 7, 1, 0, 0): 3079, datetime.datetime(2013, 9, 1, 0, 0): 2742, datetime.datetime(2014, 5, 1, 0, 0): 2864, datetime.datetime(2014, 1, 1, 0, 0): 2651, datetime.datetime(2014, 10, 1, 0, 0): 2865, datetime.datetime(2014, 8, 1, 0, 0): 2970, datetime.datetime(2012, 4, 1, 0, 0): 2795, datetime.datetime(2014, 9, 1, 0, 0): 2914, datetime.datetime(2013, 3, 1, 0, 0): 2862, datetime.datetime(2013, 1, 1, 0, 0): 2864, datetime.datetime(2012, 10, 1, 0, 0): 2733, datetime.datetime(2012, 11, 1, 0, 0): 2729, datetime.datetime(2013, 12, 1, 0, 0): 2765, datetime.datetime(2012, 3, 1, 0, 0): 2743, datetime.datetime(2013, 6, 1, 0, 0): 2920, datetime.datetime(2014, 12, 1, 0, 0): 2857, datetime.datetime(2014, 2, 1, 0, 0): 2361, datetime.datetime(2012, 6, 1, 0, 0): 2826, datetime.datetime(2014, 7, 1, 0, 0): 2884, datetime.datetime(2014, 3, 1, 0, 0): 2684, datetime.datetime(2013, 2, 1, 0, 0): 2375, datetime.datetime(2012, 1, 1, 0, 0): 2757, datetime.datetime(2012, 9, 1, 0, 0): 2852, datetime.datetime(2014, 4, 1, 0, 0): 2862, datetime.datetime(2012, 8, 1, 0, 0): 2954, datetime.datetime(2013, 4, 1, 0, 0): 2798}\n"
     ]
    }
   ],
   "source": [
    "import datetime as dt\n",
    "\n",
    "dates = [dt.datetime(year=int(row[1]), month=int(row[2]), day=1) for row in data]\n",
    "print(dates[:5])\n",
    "\n",
    "date_counts = {}\n",
    "\n",
    "for date in dates:\n",
    "    if date in date_counts:\n",
    "        date_counts[date] += 1\n",
    "    else:\n",
    "        date_counts[date] = 1\n",
    "        \n",
    "print(date_counts)"
   ]
  },
  {
   "cell_type": "code",
   "execution_count": 12,
   "metadata": {
    "collapsed": false
   },
   "outputs": [
    {
     "name": "stdout",
     "output_type": "stream",
     "text": [
      "{'F': 14449, 'M': 86348}\n",
      "{'Asian/Pacific Islander': 1325, 'Black': 23296, 'Native American/Native Alaskan': 917, 'White': 66237, 'Hispanic': 9022}\n"
     ]
    }
   ],
   "source": [
    "sex_counts = {}\n",
    "race_counts = {}\n",
    "\n",
    "for row in data:\n",
    "    if row[5] in sex_counts:\n",
    "        sex_counts[row[5]] +=1\n",
    "    else:\n",
    "        sex_counts[row[5]] =1\n",
    "    if row[7] in race_counts:\n",
    "        race_counts[row[7]] +=1\n",
    "    else:\n",
    "        race_counts[row[7]] =1\n",
    "        \n",
    "print(sex_counts)\n",
    "print(race_counts)\n",
    "    "
   ]
  },
  {
   "cell_type": "code",
   "execution_count": null,
   "metadata": {
    "collapsed": true
   },
   "outputs": [],
   "source": [
    "#So far we've learned about gun deaths between 2012-2014:\n",
    "# mostly men, around 86%\n",
    "#black deaths account for only 1/3 of white deaths, but they are way less in total\n",
    "# total deaths per month has been relatively stable, between 2-3k"
   ]
  },
  {
   "cell_type": "code",
   "execution_count": 13,
   "metadata": {
    "collapsed": false
   },
   "outputs": [
    {
     "name": "stdout",
     "output_type": "stream",
     "text": [
      "[['Id', 'Year', 'Id', 'Sex', 'Id', 'Hispanic Origin', 'Id', 'Id2', 'Geography', 'Total', 'Race Alone - White', 'Race Alone - Hispanic', 'Race Alone - Black or African American', 'Race Alone - American Indian and Alaska Native', 'Race Alone - Asian', 'Race Alone - Native Hawaiian and Other Pacific Islander', 'Two or More Races'], ['cen42010', 'April 1, 2010 Census', 'totsex', 'Both Sexes', 'tothisp', 'Total', '0100000US', '', 'United States', '308745538', '197318956', '44618105', '40250635', '3739506', '15159516', '674625', '6984195']]\n"
     ]
    }
   ],
   "source": [
    "census = list(csv.reader(open(\"census.csv\",\"r\")))\n",
    "print(census)"
   ]
  },
  {
   "cell_type": "code",
   "execution_count": 15,
   "metadata": {
    "collapsed": false
   },
   "outputs": [
    {
     "name": "stdout",
     "output_type": "stream",
     "text": [
      "{'White': 33.56849303419181, 'Asian/Pacific Islander': 8.36799419684339, 'Black': 57.8773477735196, 'Native American/Native Alaskan': 24.521955573811088, 'Hispanic': 20.220491210910907}\n"
     ]
    }
   ],
   "source": [
    "asian_census = 15159516 + 674625\n",
    "mapping = {\"Asian/Pacific Islander\": asian_census, \"Black\": 40250635, \n",
    "           \"Native American/Native Alaskan\": 3739506,\"Hispanic\": 44618105,\n",
    "           \"White\": 197318956}\n",
    "\n",
    "race_per_hundredk = {}\n",
    "\n",
    "for race in race_counts:\n",
    "    race_per_hundredk[race] = race_counts[race]/mapping[race]*100000\n",
    "    \n",
    "print(race_per_hundredk)"
   ]
  },
  {
   "cell_type": "code",
   "execution_count": 16,
   "metadata": {
    "collapsed": false
   },
   "outputs": [
    {
     "name": "stdout",
     "output_type": "stream",
     "text": [
      "{'Native American/Native Alaskan': 8.717729026240365, 'Asian/Pacific Islander': 3.530346230970155, 'Black': 48.471284987180944, 'White': 4.6356417981453335, 'Hispanic': 12.627161104219914}\n"
     ]
    }
   ],
   "source": [
    "intents = [row[3] for row in data]\n",
    "\n",
    "races = [row[7] for row in data]\n",
    "\n",
    "homicide_race_counts = {}\n",
    "\n",
    "for idx, race in enumerate(races):\n",
    "    if intents[idx] == \"Homicide\":\n",
    "        if race in homicide_race_counts:\n",
    "            homicide_race_counts[race] += 1\n",
    "        else:\n",
    "            homicide_race_counts[race] = 1\n",
    "            \n",
    "for race in homicide_race_counts:\n",
    "    homicide_race_counts[race] = homicide_race_counts[race]/mapping[race]*100000\n",
    "    \n",
    "print(homicide_race_counts)"
   ]
  },
  {
   "cell_type": "code",
   "execution_count": null,
   "metadata": {
    "collapsed": true
   },
   "outputs": [],
   "source": [
    "# Black are by far the most involved in Hommicide - 4x hispanic, 12x whites\n",
    "# next step: look at how other parameters affect the result - like place, police"
   ]
  }
 ],
 "metadata": {
  "kernelspec": {
   "display_name": "Python 3",
   "language": "python",
   "name": "python3"
  },
  "language_info": {
   "codemirror_mode": {
    "name": "ipython",
    "version": 3
   },
   "file_extension": ".py",
   "mimetype": "text/x-python",
   "name": "python",
   "nbconvert_exporter": "python",
   "pygments_lexer": "ipython3",
   "version": "3.4.3"
  }
 },
 "nbformat": 4,
 "nbformat_minor": 0
}
